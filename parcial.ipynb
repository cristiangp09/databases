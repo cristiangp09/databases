{
  "nbformat": 4,
  "nbformat_minor": 0,
  "metadata": {
    "colab": {
      "name": "parcial.ipynb",
      "provenance": []
    },
    "kernelspec": {
      "name": "python3",
      "display_name": "Python 3"
    },
    "language_info": {
      "name": "python"
    }
  },
  "cells": [
    {
      "cell_type": "markdown",
      "source": [
        "# Parcial"
      ],
      "metadata": {
        "id": "cuibqJrMMF5v"
      }
    },
    {
      "cell_type": "code",
      "source": [
        "host_name = 'database-usta.cuxqvtybmzzt.us-east-2.rds.amazonaws.com'\n",
        "dbname = 'database-usta'\n",
        "port = '5432'\n",
        "username = 'postgres'\n",
        "password = '1234ob5678'"
      ],
      "metadata": {
        "id": "gY-4J6zKNmqL"
      },
      "execution_count": null,
      "outputs": []
    },
    {
      "cell_type": "code",
      "source": [
        "try:\n",
        "  conn = ps.connect(host=host_name, \n",
        "            user=username, \n",
        "            password=password)\n",
        "except ps.OperationalError as e:\n",
        "  raise e\n",
        "else:\n",
        "  print('Connected')"
      ],
      "metadata": {
        "id": "IAsA58a9Nn-C"
      },
      "execution_count": null,
      "outputs": []
    },
    {
      "cell_type": "code",
      "source": [
        ""
      ],
      "metadata": {
        "id": "DzAeV55UOEN6"
      },
      "execution_count": null,
      "outputs": []
    }
  ]
}